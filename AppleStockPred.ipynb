{
  "cells": [
    {
      "cell_type": "markdown",
      "metadata": {
        "id": "view-in-github",
        "colab_type": "text"
      },
      "source": [
        "<a href=\"https://colab.research.google.com/github/soroush-04/Apple_Stock_Prediction/blob/main/AppleStockPred.ipynb\" target=\"_parent\"><img src=\"https://colab.research.google.com/assets/colab-badge.svg\" alt=\"Open In Colab\"/></a>"
      ]
    },
    {
      "cell_type": "code",
      "execution_count": null,
      "id": "df3b67b9",
      "metadata": {
        "id": "df3b67b9"
      },
      "outputs": [],
      "source": [
        "pip install pandas_datareader"
      ]
    },
    {
      "cell_type": "code",
      "execution_count": null,
      "id": "eade6bd7",
      "metadata": {
        "id": "eade6bd7"
      },
      "outputs": [],
      "source": [
        "pip install keras"
      ]
    },
    {
      "cell_type": "code",
      "execution_count": null,
      "id": "4f4a74ed",
      "metadata": {
        "id": "4f4a74ed"
      },
      "outputs": [],
      "source": [
        "pip install tensorflow"
      ]
    },
    {
      "cell_type": "code",
      "source": [
        "pip install --upgrade pandas\n"
      ],
      "metadata": {
        "id": "9wPFgYOJocrQ"
      },
      "id": "9wPFgYOJocrQ",
      "execution_count": null,
      "outputs": []
    },
    {
      "cell_type": "code",
      "source": [
        "pip install --upgrade pandas-datareader"
      ],
      "metadata": {
        "id": "uwT4oK2bokGY"
      },
      "id": "uwT4oK2bokGY",
      "execution_count": null,
      "outputs": []
    },
    {
      "cell_type": "code",
      "execution_count": null,
      "id": "51cfb666",
      "metadata": {
        "id": "51cfb666"
      },
      "outputs": [],
      "source": [
        "\n",
        "import numpy as np\n",
        "import pandas as pd\n",
        "import matplotlib.pyplot as plt\n",
        "import pandas_datareader as data"
      ]
    },
    {
      "cell_type": "code",
      "execution_count": null,
      "id": "e86f31aa",
      "metadata": {
        "id": "e86f31aa"
      },
      "outputs": [],
      "source": [
        "import yfinance as yf\n",
        "\n",
        "start = '2010-01-01'\n",
        "end = '2019-12-31'\n",
        "\n",
        "df = yf.download('AAPL', start=start, end=end)\n"
      ]
    },
    {
      "cell_type": "code",
      "execution_count": null,
      "id": "6eee9bc1",
      "metadata": {
        "id": "6eee9bc1"
      },
      "outputs": [],
      "source": [
        "df.head()"
      ]
    },
    {
      "cell_type": "code",
      "execution_count": null,
      "id": "9f896a2c",
      "metadata": {
        "id": "9f896a2c"
      },
      "outputs": [],
      "source": [
        "df.tail()"
      ]
    },
    {
      "cell_type": "code",
      "execution_count": null,
      "id": "ebaf560f",
      "metadata": {
        "id": "ebaf560f"
      },
      "outputs": [],
      "source": [
        "df = df.reset_index()\n",
        "df.head()"
      ]
    },
    {
      "cell_type": "code",
      "execution_count": null,
      "id": "77ac72b4",
      "metadata": {
        "id": "77ac72b4"
      },
      "outputs": [],
      "source": [
        "df = df.drop(['Date'], axis = 1)"
      ]
    },
    {
      "cell_type": "code",
      "execution_count": null,
      "id": "8f23b36a",
      "metadata": {
        "id": "8f23b36a"
      },
      "outputs": [],
      "source": [
        "df"
      ]
    },
    {
      "cell_type": "code",
      "execution_count": null,
      "id": "87af6db2",
      "metadata": {
        "id": "87af6db2"
      },
      "outputs": [],
      "source": [
        "df = df.drop(['Adj Close'], axis = 1)"
      ]
    },
    {
      "cell_type": "code",
      "execution_count": null,
      "id": "25c2e2fe",
      "metadata": {
        "id": "25c2e2fe"
      },
      "outputs": [],
      "source": [
        "df"
      ]
    },
    {
      "cell_type": "code",
      "execution_count": null,
      "id": "1bfcaa12",
      "metadata": {
        "id": "1bfcaa12"
      },
      "outputs": [],
      "source": [
        "plt.plot(df.Close)\n",
        "# Here x axis is sample number and Y axis is closing prices"
      ]
    },
    {
      "cell_type": "code",
      "execution_count": null,
      "id": "b3b27821",
      "metadata": {
        "id": "b3b27821"
      },
      "outputs": [],
      "source": [
        "ma100 = df.Close.rolling(100).mean()\n",
        "ma100\n",
        "# moving average = from first 100 days it will calculate last 100 days moving average"
      ]
    },
    {
      "cell_type": "code",
      "execution_count": null,
      "id": "9f012e7e",
      "metadata": {
        "scrolled": true,
        "id": "9f012e7e"
      },
      "outputs": [],
      "source": [
        "# ploting the Average value\n",
        "plt.figure(figsize = (12,6))\n",
        "plt.plot(df.Close, 'g')\n",
        "plt.plot(ma100, 'b')"
      ]
    },
    {
      "cell_type": "code",
      "execution_count": null,
      "id": "b4883d54",
      "metadata": {
        "id": "b4883d54"
      },
      "outputs": [],
      "source": [
        "#calcuulating average og 200 days\n",
        "ma200 = df.Close.rolling(200).mean()\n",
        "ma200"
      ]
    },
    {
      "cell_type": "code",
      "execution_count": null,
      "id": "cf0c42e0",
      "metadata": {
        "id": "cf0c42e0"
      },
      "outputs": [],
      "source": [
        "# ploting the Moving average of 100, 200 days with original close price Average value\n",
        "plt.figure(figsize = (12,6))\n",
        "plt.plot(df.Close, 'r')\n",
        "plt.plot(ma100, 'b')\n",
        "plt.plot(ma200, 'g')"
      ]
    },
    {
      "cell_type": "code",
      "execution_count": null,
      "id": "e637f5b7",
      "metadata": {
        "id": "e637f5b7"
      },
      "outputs": [],
      "source": [
        "df.shape"
      ]
    },
    {
      "cell_type": "code",
      "execution_count": null,
      "id": "3754ddab",
      "metadata": {
        "id": "3754ddab"
      },
      "outputs": [],
      "source": [
        "# splitting Data into Training and Testing\n",
        "data_training = pd.DataFrame(df['Close'][0:int(len(df)*0.7)])\n",
        "data_testing = pd.DataFrame(df['Close'][int(len(df)*0.7): int(len(df))])"
      ]
    },
    {
      "cell_type": "code",
      "execution_count": null,
      "id": "ed25d977",
      "metadata": {
        "id": "ed25d977"
      },
      "outputs": [],
      "source": [
        "print(data_training.shape)\n",
        "print(data_testing.shape)"
      ]
    },
    {
      "cell_type": "code",
      "execution_count": null,
      "id": "3f104dc9",
      "metadata": {
        "id": "3f104dc9"
      },
      "outputs": [],
      "source": [
        "data_training.head()"
      ]
    },
    {
      "cell_type": "code",
      "execution_count": null,
      "id": "3028700e",
      "metadata": {
        "id": "3028700e"
      },
      "outputs": [],
      "source": [
        "data_testing.head()"
      ]
    },
    {
      "cell_type": "code",
      "execution_count": null,
      "id": "7b5eae19",
      "metadata": {
        "id": "7b5eae19"
      },
      "outputs": [],
      "source": [
        "# Scaling down the data between 0 and 1\n",
        "from sklearn.preprocessing import MinMaxScaler\n",
        "scaler = MinMaxScaler(feature_range=(0,1))\n"
      ]
    },
    {
      "cell_type": "code",
      "execution_count": null,
      "id": "612bbd3f",
      "metadata": {
        "id": "612bbd3f"
      },
      "outputs": [],
      "source": [
        "#scaler.fit automaticcaly gives an array\n",
        "data_training_array = scaler.fit_transform(data_training)\n",
        "data_training_array"
      ]
    },
    {
      "cell_type": "code",
      "execution_count": null,
      "id": "c9f3a922",
      "metadata": {
        "id": "c9f3a922"
      },
      "outputs": [],
      "source": [
        "data_training_array.shape"
      ]
    },
    {
      "cell_type": "code",
      "execution_count": null,
      "id": "65d4f784",
      "metadata": {
        "id": "65d4f784"
      },
      "outputs": [],
      "source": [
        "x_train = []\n",
        "y_train = []\n",
        "\n",
        "for i in range(100, data_training_array.shape[0]):\n",
        "    x_train.append(data_training_array[i-100: i])\n",
        "    y_train.append(data_training_array[i, 0])"
      ]
    },
    {
      "cell_type": "code",
      "execution_count": null,
      "id": "8cca7d65",
      "metadata": {
        "id": "8cca7d65"
      },
      "outputs": [],
      "source": [
        "y_train\n"
      ]
    },
    {
      "cell_type": "code",
      "execution_count": null,
      "id": "f256e5b0",
      "metadata": {
        "id": "f256e5b0"
      },
      "outputs": [],
      "source": [
        "x_train, y_train = np.array(x_train), np.array(y_train)"
      ]
    },
    {
      "cell_type": "code",
      "execution_count": null,
      "id": "34bec422",
      "metadata": {
        "id": "34bec422"
      },
      "outputs": [],
      "source": [
        "x_train"
      ]
    },
    {
      "cell_type": "code",
      "execution_count": null,
      "id": "e89e1463",
      "metadata": {
        "id": "e89e1463"
      },
      "outputs": [],
      "source": [
        "# ML MODEl\n",
        "from keras.layers import Dense, Dropout, LSTM\n",
        "from keras.models import Sequential"
      ]
    },
    {
      "cell_type": "code",
      "execution_count": null,
      "id": "49efaab6",
      "metadata": {
        "id": "49efaab6"
      },
      "outputs": [],
      "source": [
        "model = Sequential()\n",
        "model.add(LSTM(units = 50, activation = 'relu', return_sequences = True,\n",
        "              input_shape = (x_train.shape[1], 1)))\n",
        "model.add(Dropout(0.2))\n",
        "\n",
        "\n",
        "\n",
        "#2nd\n",
        "model.add(LSTM(units = 50, activation = 'relu', return_sequences = True))\n",
        "model.add(Dropout(0.3))\n",
        "\n",
        "\n",
        "#3rd\n",
        "model.add(LSTM(units = 80, activation = 'relu', return_sequences = True))\n",
        "model.add(Dropout(0.4))\n",
        "\n",
        "\n",
        "#4th\n",
        "model.add(LSTM(units = 120, activation = 'relu'))\n",
        "model.add(Dropout(0.5))\n",
        "\n",
        "\n",
        "model.add(Dense(units = 1))"
      ]
    },
    {
      "cell_type": "code",
      "execution_count": null,
      "id": "fd3d0b9a",
      "metadata": {
        "id": "fd3d0b9a"
      },
      "outputs": [],
      "source": [
        "model.summary()"
      ]
    },
    {
      "cell_type": "code",
      "execution_count": null,
      "id": "58d147d5",
      "metadata": {
        "id": "58d147d5"
      },
      "outputs": [],
      "source": [
        "model.compile(optimizer='adam', loss = 'mean_squared_error')\n",
        "model.fit(x_train, y_train, epochs =50 )"
      ]
    },
    {
      "cell_type": "code",
      "execution_count": null,
      "id": "6ff22a06",
      "metadata": {
        "id": "6ff22a06"
      },
      "outputs": [],
      "source": [
        "#let save the model\n",
        "model.save('keras_model.h5')"
      ]
    },
    {
      "cell_type": "code",
      "execution_count": null,
      "id": "c5884159",
      "metadata": {
        "id": "c5884159"
      },
      "outputs": [],
      "source": [
        "data_testing.head()"
      ]
    },
    {
      "cell_type": "code",
      "execution_count": null,
      "id": "0cee28fb",
      "metadata": {
        "id": "0cee28fb"
      },
      "outputs": [],
      "source": [
        "data_training.tail(100)"
      ]
    },
    {
      "cell_type": "code",
      "execution_count": null,
      "id": "1ac38920",
      "metadata": {
        "id": "1ac38920"
      },
      "outputs": [],
      "source": [
        "past_100_days = data_training.tail(100)"
      ]
    },
    {
      "cell_type": "code",
      "execution_count": null,
      "id": "50a06d44",
      "metadata": {
        "id": "50a06d44"
      },
      "outputs": [],
      "source": [
        "# final_df = past_100_days.append(data_testing, ignore_index=True)\n",
        "\n",
        "final_df = pd.concat([past_100_days, data_testing], ignore_index=True)\n"
      ]
    },
    {
      "cell_type": "code",
      "execution_count": null,
      "id": "94879973",
      "metadata": {
        "id": "94879973"
      },
      "outputs": [],
      "source": [
        "final_df.head()"
      ]
    },
    {
      "cell_type": "code",
      "execution_count": null,
      "id": "36cd5595",
      "metadata": {
        "id": "36cd5595"
      },
      "outputs": [],
      "source": [
        "input_data = scaler.fit_transform(final_df)"
      ]
    },
    {
      "cell_type": "code",
      "execution_count": null,
      "id": "0d157970",
      "metadata": {
        "id": "0d157970"
      },
      "outputs": [],
      "source": [
        "input_data"
      ]
    },
    {
      "cell_type": "code",
      "execution_count": null,
      "id": "ede1b41c",
      "metadata": {
        "id": "ede1b41c"
      },
      "outputs": [],
      "source": [
        "input_data.shape"
      ]
    },
    {
      "cell_type": "code",
      "execution_count": null,
      "id": "f6751daf",
      "metadata": {
        "id": "f6751daf"
      },
      "outputs": [],
      "source": [
        "x_test = []\n",
        "y_test = []\n",
        "\n",
        "for i in range(100, input_data.shape[0]):\n",
        "    x_test.append(input_data[i-100: i])\n",
        "    y_test.append(input_data[i, 0])"
      ]
    },
    {
      "cell_type": "code",
      "execution_count": null,
      "id": "dc296aad",
      "metadata": {
        "id": "dc296aad"
      },
      "outputs": [],
      "source": [
        "x_test, y_test = np.array(x_test), np.array(y_test)\n",
        "print(x_test.shape)\n",
        "print(y_test.shape)"
      ]
    },
    {
      "cell_type": "code",
      "execution_count": null,
      "id": "500269d2",
      "metadata": {
        "id": "500269d2"
      },
      "outputs": [],
      "source": [
        "#making predictions\n",
        "\n",
        "y_predicted = model.predict(x_test)"
      ]
    },
    {
      "cell_type": "code",
      "execution_count": null,
      "id": "6099dfcc",
      "metadata": {
        "id": "6099dfcc"
      },
      "outputs": [],
      "source": [
        "y_predicted.shape"
      ]
    },
    {
      "cell_type": "code",
      "execution_count": null,
      "id": "32438d1c",
      "metadata": {
        "id": "32438d1c"
      },
      "outputs": [],
      "source": [
        "y_test"
      ]
    },
    {
      "cell_type": "code",
      "execution_count": null,
      "id": "e9da2eb3",
      "metadata": {
        "id": "e9da2eb3"
      },
      "outputs": [],
      "source": [
        "y_predicted"
      ]
    },
    {
      "cell_type": "code",
      "execution_count": null,
      "id": "3aa85caf",
      "metadata": {
        "id": "3aa85caf"
      },
      "outputs": [],
      "source": [
        "scaler.scale_"
      ]
    },
    {
      "cell_type": "code",
      "execution_count": null,
      "id": "1a7dcaca",
      "metadata": {
        "id": "1a7dcaca"
      },
      "outputs": [],
      "source": [
        "scale_factor = 1/0.02099517\n",
        "y_predicted = y_predicted * scale_factor\n",
        "y_test = y_test * scale_factor"
      ]
    },
    {
      "cell_type": "code",
      "execution_count": null,
      "id": "7fa9dc20",
      "metadata": {
        "id": "7fa9dc20"
      },
      "outputs": [],
      "source": [
        "plt.figure(figsize=(12,6))\n",
        "plt.plot(y_test, 'b', label = 'Original Price')\n",
        "plt.plot(y_predicted, 'r', label = 'Predicted price')\n",
        "plt.xlabel('Time')\n",
        "plt.ylabel('Price')\n",
        "plt.legend()\n",
        "plt.show()"
      ]
    },
    {
      "cell_type": "code",
      "execution_count": null,
      "id": "61fc7ddc",
      "metadata": {
        "id": "61fc7ddc"
      },
      "outputs": [],
      "source": []
    }
  ],
  "metadata": {
    "kernelspec": {
      "display_name": "Python 3",
      "language": "python",
      "name": "python3"
    },
    "language_info": {
      "codemirror_mode": {
        "name": "ipython",
        "version": 3
      },
      "file_extension": ".py",
      "mimetype": "text/x-python",
      "name": "python",
      "nbconvert_exporter": "python",
      "pygments_lexer": "ipython3",
      "version": "3.8.8"
    },
    "toc": {
      "base_numbering": 1,
      "nav_menu": {},
      "number_sections": true,
      "sideBar": true,
      "skip_h1_title": false,
      "title_cell": "Table of Contents",
      "title_sidebar": "Contents",
      "toc_cell": false,
      "toc_position": {},
      "toc_section_display": true,
      "toc_window_display": false
    },
    "colab": {
      "provenance": [],
      "include_colab_link": true
    }
  },
  "nbformat": 4,
  "nbformat_minor": 5
}