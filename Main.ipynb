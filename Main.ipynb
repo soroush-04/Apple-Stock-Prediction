{
 "cells": [
  {
   "cell_type": "code",
   "execution_count": null,
   "metadata": {},
   "outputs": [],
   "source": [
    "# !pip install keras\n",
    "# !pip install tensorflow\n",
    "# !pip install yfinance"
   ]
  },
  {
   "cell_type": "code",
   "execution_count": 38,
   "metadata": {},
   "outputs": [],
   "source": [
    "import numpy as np\n",
    "import pandas as pd\n",
    "import matplotlib.pyplot as plt\n",
    "import yfinance as yf\n",
    "from sklearn.preprocessing import MinMaxScaler\n",
    "from keras.layers import Dense, Dropout, LSTM\n",
    "from keras.models import Sequential"
   ]
  },
  {
   "cell_type": "code",
   "execution_count": 7,
   "metadata": {},
   "outputs": [
    {
     "name": "stdout",
     "output_type": "stream",
     "text": [
      "[*********************100%%**********************]  1 of 1 completed\n"
     ]
    }
   ],
   "source": [
    "start = '2010-01-01'\n",
    "end = '2019-12-31'\n",
    "\n",
    "df = yf.download('AAPL', start=start, end=end)\n"
   ]
  },
  {
   "cell_type": "code",
   "execution_count": 8,
   "metadata": {},
   "outputs": [
    {
     "data": {
      "text/html": [
       "<div>\n",
       "<style scoped>\n",
       "    .dataframe tbody tr th:only-of-type {\n",
       "        vertical-align: middle;\n",
       "    }\n",
       "\n",
       "    .dataframe tbody tr th {\n",
       "        vertical-align: top;\n",
       "    }\n",
       "\n",
       "    .dataframe thead th {\n",
       "        text-align: right;\n",
       "    }\n",
       "</style>\n",
       "<table border=\"1\" class=\"dataframe\">\n",
       "  <thead>\n",
       "    <tr style=\"text-align: right;\">\n",
       "      <th></th>\n",
       "      <th>Open</th>\n",
       "      <th>High</th>\n",
       "      <th>Low</th>\n",
       "      <th>Close</th>\n",
       "      <th>Adj Close</th>\n",
       "      <th>Volume</th>\n",
       "    </tr>\n",
       "    <tr>\n",
       "      <th>Date</th>\n",
       "      <th></th>\n",
       "      <th></th>\n",
       "      <th></th>\n",
       "      <th></th>\n",
       "      <th></th>\n",
       "      <th></th>\n",
       "    </tr>\n",
       "  </thead>\n",
       "  <tbody>\n",
       "    <tr>\n",
       "      <th>2010-01-04</th>\n",
       "      <td>7.622500</td>\n",
       "      <td>7.660714</td>\n",
       "      <td>7.585000</td>\n",
       "      <td>7.643214</td>\n",
       "      <td>6.487535</td>\n",
       "      <td>493729600</td>\n",
       "    </tr>\n",
       "    <tr>\n",
       "      <th>2010-01-05</th>\n",
       "      <td>7.664286</td>\n",
       "      <td>7.699643</td>\n",
       "      <td>7.616071</td>\n",
       "      <td>7.656429</td>\n",
       "      <td>6.498750</td>\n",
       "      <td>601904800</td>\n",
       "    </tr>\n",
       "    <tr>\n",
       "      <th>2010-01-06</th>\n",
       "      <td>7.656429</td>\n",
       "      <td>7.686786</td>\n",
       "      <td>7.526786</td>\n",
       "      <td>7.534643</td>\n",
       "      <td>6.395379</td>\n",
       "      <td>552160000</td>\n",
       "    </tr>\n",
       "    <tr>\n",
       "      <th>2010-01-07</th>\n",
       "      <td>7.562500</td>\n",
       "      <td>7.571429</td>\n",
       "      <td>7.466071</td>\n",
       "      <td>7.520714</td>\n",
       "      <td>6.383555</td>\n",
       "      <td>477131200</td>\n",
       "    </tr>\n",
       "    <tr>\n",
       "      <th>2010-01-08</th>\n",
       "      <td>7.510714</td>\n",
       "      <td>7.571429</td>\n",
       "      <td>7.466429</td>\n",
       "      <td>7.570714</td>\n",
       "      <td>6.425996</td>\n",
       "      <td>447610800</td>\n",
       "    </tr>\n",
       "  </tbody>\n",
       "</table>\n",
       "</div>"
      ],
      "text/plain": [
       "                Open      High       Low     Close  Adj Close     Volume\n",
       "Date                                                                    \n",
       "2010-01-04  7.622500  7.660714  7.585000  7.643214   6.487535  493729600\n",
       "2010-01-05  7.664286  7.699643  7.616071  7.656429   6.498750  601904800\n",
       "2010-01-06  7.656429  7.686786  7.526786  7.534643   6.395379  552160000\n",
       "2010-01-07  7.562500  7.571429  7.466071  7.520714   6.383555  477131200\n",
       "2010-01-08  7.510714  7.571429  7.466429  7.570714   6.425996  447610800"
      ]
     },
     "execution_count": 8,
     "metadata": {},
     "output_type": "execute_result"
    }
   ],
   "source": [
    "df.head()"
   ]
  },
  {
   "cell_type": "code",
   "execution_count": 9,
   "metadata": {},
   "outputs": [
    {
     "data": {
      "text/html": [
       "<div>\n",
       "<style scoped>\n",
       "    .dataframe tbody tr th:only-of-type {\n",
       "        vertical-align: middle;\n",
       "    }\n",
       "\n",
       "    .dataframe tbody tr th {\n",
       "        vertical-align: top;\n",
       "    }\n",
       "\n",
       "    .dataframe thead th {\n",
       "        text-align: right;\n",
       "    }\n",
       "</style>\n",
       "<table border=\"1\" class=\"dataframe\">\n",
       "  <thead>\n",
       "    <tr style=\"text-align: right;\">\n",
       "      <th></th>\n",
       "      <th>Open</th>\n",
       "      <th>High</th>\n",
       "      <th>Low</th>\n",
       "      <th>Close</th>\n",
       "      <th>Adj Close</th>\n",
       "      <th>Volume</th>\n",
       "    </tr>\n",
       "    <tr>\n",
       "      <th>Date</th>\n",
       "      <th></th>\n",
       "      <th></th>\n",
       "      <th></th>\n",
       "      <th></th>\n",
       "      <th></th>\n",
       "      <th></th>\n",
       "    </tr>\n",
       "  </thead>\n",
       "  <tbody>\n",
       "    <tr>\n",
       "      <th>2019-12-23</th>\n",
       "      <td>70.132500</td>\n",
       "      <td>71.062500</td>\n",
       "      <td>70.092499</td>\n",
       "      <td>71.000000</td>\n",
       "      <td>69.261604</td>\n",
       "      <td>98572000</td>\n",
       "    </tr>\n",
       "    <tr>\n",
       "      <th>2019-12-24</th>\n",
       "      <td>71.172501</td>\n",
       "      <td>71.222504</td>\n",
       "      <td>70.730003</td>\n",
       "      <td>71.067497</td>\n",
       "      <td>69.327454</td>\n",
       "      <td>48478800</td>\n",
       "    </tr>\n",
       "    <tr>\n",
       "      <th>2019-12-26</th>\n",
       "      <td>71.205002</td>\n",
       "      <td>72.495003</td>\n",
       "      <td>71.175003</td>\n",
       "      <td>72.477501</td>\n",
       "      <td>70.702934</td>\n",
       "      <td>93121200</td>\n",
       "    </tr>\n",
       "    <tr>\n",
       "      <th>2019-12-27</th>\n",
       "      <td>72.779999</td>\n",
       "      <td>73.492500</td>\n",
       "      <td>72.029999</td>\n",
       "      <td>72.449997</td>\n",
       "      <td>70.676109</td>\n",
       "      <td>146266000</td>\n",
       "    </tr>\n",
       "    <tr>\n",
       "      <th>2019-12-30</th>\n",
       "      <td>72.364998</td>\n",
       "      <td>73.172501</td>\n",
       "      <td>71.305000</td>\n",
       "      <td>72.879997</td>\n",
       "      <td>71.095566</td>\n",
       "      <td>144114400</td>\n",
       "    </tr>\n",
       "  </tbody>\n",
       "</table>\n",
       "</div>"
      ],
      "text/plain": [
       "                 Open       High        Low      Close  Adj Close     Volume\n",
       "Date                                                                        \n",
       "2019-12-23  70.132500  71.062500  70.092499  71.000000  69.261604   98572000\n",
       "2019-12-24  71.172501  71.222504  70.730003  71.067497  69.327454   48478800\n",
       "2019-12-26  71.205002  72.495003  71.175003  72.477501  70.702934   93121200\n",
       "2019-12-27  72.779999  73.492500  72.029999  72.449997  70.676109  146266000\n",
       "2019-12-30  72.364998  73.172501  71.305000  72.879997  71.095566  144114400"
      ]
     },
     "execution_count": 9,
     "metadata": {},
     "output_type": "execute_result"
    }
   ],
   "source": [
    "df.tail()"
   ]
  },
  {
   "cell_type": "code",
   "execution_count": 10,
   "metadata": {},
   "outputs": [
    {
     "data": {
      "text/html": [
       "<div>\n",
       "<style scoped>\n",
       "    .dataframe tbody tr th:only-of-type {\n",
       "        vertical-align: middle;\n",
       "    }\n",
       "\n",
       "    .dataframe tbody tr th {\n",
       "        vertical-align: top;\n",
       "    }\n",
       "\n",
       "    .dataframe thead th {\n",
       "        text-align: right;\n",
       "    }\n",
       "</style>\n",
       "<table border=\"1\" class=\"dataframe\">\n",
       "  <thead>\n",
       "    <tr style=\"text-align: right;\">\n",
       "      <th></th>\n",
       "      <th>Date</th>\n",
       "      <th>Open</th>\n",
       "      <th>High</th>\n",
       "      <th>Low</th>\n",
       "      <th>Close</th>\n",
       "      <th>Adj Close</th>\n",
       "      <th>Volume</th>\n",
       "    </tr>\n",
       "  </thead>\n",
       "  <tbody>\n",
       "    <tr>\n",
       "      <th>0</th>\n",
       "      <td>2010-01-04</td>\n",
       "      <td>7.622500</td>\n",
       "      <td>7.660714</td>\n",
       "      <td>7.585000</td>\n",
       "      <td>7.643214</td>\n",
       "      <td>6.487535</td>\n",
       "      <td>493729600</td>\n",
       "    </tr>\n",
       "    <tr>\n",
       "      <th>1</th>\n",
       "      <td>2010-01-05</td>\n",
       "      <td>7.664286</td>\n",
       "      <td>7.699643</td>\n",
       "      <td>7.616071</td>\n",
       "      <td>7.656429</td>\n",
       "      <td>6.498750</td>\n",
       "      <td>601904800</td>\n",
       "    </tr>\n",
       "    <tr>\n",
       "      <th>2</th>\n",
       "      <td>2010-01-06</td>\n",
       "      <td>7.656429</td>\n",
       "      <td>7.686786</td>\n",
       "      <td>7.526786</td>\n",
       "      <td>7.534643</td>\n",
       "      <td>6.395379</td>\n",
       "      <td>552160000</td>\n",
       "    </tr>\n",
       "    <tr>\n",
       "      <th>3</th>\n",
       "      <td>2010-01-07</td>\n",
       "      <td>7.562500</td>\n",
       "      <td>7.571429</td>\n",
       "      <td>7.466071</td>\n",
       "      <td>7.520714</td>\n",
       "      <td>6.383555</td>\n",
       "      <td>477131200</td>\n",
       "    </tr>\n",
       "    <tr>\n",
       "      <th>4</th>\n",
       "      <td>2010-01-08</td>\n",
       "      <td>7.510714</td>\n",
       "      <td>7.571429</td>\n",
       "      <td>7.466429</td>\n",
       "      <td>7.570714</td>\n",
       "      <td>6.425996</td>\n",
       "      <td>447610800</td>\n",
       "    </tr>\n",
       "  </tbody>\n",
       "</table>\n",
       "</div>"
      ],
      "text/plain": [
       "        Date      Open      High       Low     Close  Adj Close     Volume\n",
       "0 2010-01-04  7.622500  7.660714  7.585000  7.643214   6.487535  493729600\n",
       "1 2010-01-05  7.664286  7.699643  7.616071  7.656429   6.498750  601904800\n",
       "2 2010-01-06  7.656429  7.686786  7.526786  7.534643   6.395379  552160000\n",
       "3 2010-01-07  7.562500  7.571429  7.466071  7.520714   6.383555  477131200\n",
       "4 2010-01-08  7.510714  7.571429  7.466429  7.570714   6.425996  447610800"
      ]
     },
     "execution_count": 10,
     "metadata": {},
     "output_type": "execute_result"
    }
   ],
   "source": [
    "df = df.reset_index()\n",
    "df.head()"
   ]
  },
  {
   "cell_type": "code",
   "execution_count": 11,
   "metadata": {},
   "outputs": [],
   "source": [
    "df = df.drop(['Date'], axis = 1)"
   ]
  },
  {
   "cell_type": "code",
   "execution_count": 12,
   "metadata": {},
   "outputs": [
    {
     "data": {
      "text/html": [
       "<div>\n",
       "<style scoped>\n",
       "    .dataframe tbody tr th:only-of-type {\n",
       "        vertical-align: middle;\n",
       "    }\n",
       "\n",
       "    .dataframe tbody tr th {\n",
       "        vertical-align: top;\n",
       "    }\n",
       "\n",
       "    .dataframe thead th {\n",
       "        text-align: right;\n",
       "    }\n",
       "</style>\n",
       "<table border=\"1\" class=\"dataframe\">\n",
       "  <thead>\n",
       "    <tr style=\"text-align: right;\">\n",
       "      <th></th>\n",
       "      <th>Open</th>\n",
       "      <th>High</th>\n",
       "      <th>Low</th>\n",
       "      <th>Close</th>\n",
       "      <th>Adj Close</th>\n",
       "      <th>Volume</th>\n",
       "    </tr>\n",
       "  </thead>\n",
       "  <tbody>\n",
       "    <tr>\n",
       "      <th>0</th>\n",
       "      <td>7.622500</td>\n",
       "      <td>7.660714</td>\n",
       "      <td>7.585000</td>\n",
       "      <td>7.643214</td>\n",
       "      <td>6.487535</td>\n",
       "      <td>493729600</td>\n",
       "    </tr>\n",
       "    <tr>\n",
       "      <th>1</th>\n",
       "      <td>7.664286</td>\n",
       "      <td>7.699643</td>\n",
       "      <td>7.616071</td>\n",
       "      <td>7.656429</td>\n",
       "      <td>6.498750</td>\n",
       "      <td>601904800</td>\n",
       "    </tr>\n",
       "    <tr>\n",
       "      <th>2</th>\n",
       "      <td>7.656429</td>\n",
       "      <td>7.686786</td>\n",
       "      <td>7.526786</td>\n",
       "      <td>7.534643</td>\n",
       "      <td>6.395379</td>\n",
       "      <td>552160000</td>\n",
       "    </tr>\n",
       "    <tr>\n",
       "      <th>3</th>\n",
       "      <td>7.562500</td>\n",
       "      <td>7.571429</td>\n",
       "      <td>7.466071</td>\n",
       "      <td>7.520714</td>\n",
       "      <td>6.383555</td>\n",
       "      <td>477131200</td>\n",
       "    </tr>\n",
       "    <tr>\n",
       "      <th>4</th>\n",
       "      <td>7.510714</td>\n",
       "      <td>7.571429</td>\n",
       "      <td>7.466429</td>\n",
       "      <td>7.570714</td>\n",
       "      <td>6.425996</td>\n",
       "      <td>447610800</td>\n",
       "    </tr>\n",
       "    <tr>\n",
       "      <th>...</th>\n",
       "      <td>...</td>\n",
       "      <td>...</td>\n",
       "      <td>...</td>\n",
       "      <td>...</td>\n",
       "      <td>...</td>\n",
       "      <td>...</td>\n",
       "    </tr>\n",
       "    <tr>\n",
       "      <th>2510</th>\n",
       "      <td>70.132500</td>\n",
       "      <td>71.062500</td>\n",
       "      <td>70.092499</td>\n",
       "      <td>71.000000</td>\n",
       "      <td>69.261604</td>\n",
       "      <td>98572000</td>\n",
       "    </tr>\n",
       "    <tr>\n",
       "      <th>2511</th>\n",
       "      <td>71.172501</td>\n",
       "      <td>71.222504</td>\n",
       "      <td>70.730003</td>\n",
       "      <td>71.067497</td>\n",
       "      <td>69.327454</td>\n",
       "      <td>48478800</td>\n",
       "    </tr>\n",
       "    <tr>\n",
       "      <th>2512</th>\n",
       "      <td>71.205002</td>\n",
       "      <td>72.495003</td>\n",
       "      <td>71.175003</td>\n",
       "      <td>72.477501</td>\n",
       "      <td>70.702934</td>\n",
       "      <td>93121200</td>\n",
       "    </tr>\n",
       "    <tr>\n",
       "      <th>2513</th>\n",
       "      <td>72.779999</td>\n",
       "      <td>73.492500</td>\n",
       "      <td>72.029999</td>\n",
       "      <td>72.449997</td>\n",
       "      <td>70.676109</td>\n",
       "      <td>146266000</td>\n",
       "    </tr>\n",
       "    <tr>\n",
       "      <th>2514</th>\n",
       "      <td>72.364998</td>\n",
       "      <td>73.172501</td>\n",
       "      <td>71.305000</td>\n",
       "      <td>72.879997</td>\n",
       "      <td>71.095566</td>\n",
       "      <td>144114400</td>\n",
       "    </tr>\n",
       "  </tbody>\n",
       "</table>\n",
       "<p>2515 rows × 6 columns</p>\n",
       "</div>"
      ],
      "text/plain": [
       "           Open       High        Low      Close  Adj Close     Volume\n",
       "0      7.622500   7.660714   7.585000   7.643214   6.487535  493729600\n",
       "1      7.664286   7.699643   7.616071   7.656429   6.498750  601904800\n",
       "2      7.656429   7.686786   7.526786   7.534643   6.395379  552160000\n",
       "3      7.562500   7.571429   7.466071   7.520714   6.383555  477131200\n",
       "4      7.510714   7.571429   7.466429   7.570714   6.425996  447610800\n",
       "...         ...        ...        ...        ...        ...        ...\n",
       "2510  70.132500  71.062500  70.092499  71.000000  69.261604   98572000\n",
       "2511  71.172501  71.222504  70.730003  71.067497  69.327454   48478800\n",
       "2512  71.205002  72.495003  71.175003  72.477501  70.702934   93121200\n",
       "2513  72.779999  73.492500  72.029999  72.449997  70.676109  146266000\n",
       "2514  72.364998  73.172501  71.305000  72.879997  71.095566  144114400\n",
       "\n",
       "[2515 rows x 6 columns]"
      ]
     },
     "execution_count": 12,
     "metadata": {},
     "output_type": "execute_result"
    }
   ],
   "source": [
    "df"
   ]
  },
  {
   "cell_type": "code",
   "execution_count": 13,
   "metadata": {},
   "outputs": [],
   "source": [
    "df = df.drop(['Adj Close'], axis = 1)"
   ]
  },
  {
   "cell_type": "code",
   "execution_count": 14,
   "metadata": {},
   "outputs": [
    {
     "data": {
      "text/html": [
       "<div>\n",
       "<style scoped>\n",
       "    .dataframe tbody tr th:only-of-type {\n",
       "        vertical-align: middle;\n",
       "    }\n",
       "\n",
       "    .dataframe tbody tr th {\n",
       "        vertical-align: top;\n",
       "    }\n",
       "\n",
       "    .dataframe thead th {\n",
       "        text-align: right;\n",
       "    }\n",
       "</style>\n",
       "<table border=\"1\" class=\"dataframe\">\n",
       "  <thead>\n",
       "    <tr style=\"text-align: right;\">\n",
       "      <th></th>\n",
       "      <th>Open</th>\n",
       "      <th>High</th>\n",
       "      <th>Low</th>\n",
       "      <th>Close</th>\n",
       "      <th>Volume</th>\n",
       "    </tr>\n",
       "  </thead>\n",
       "  <tbody>\n",
       "    <tr>\n",
       "      <th>0</th>\n",
       "      <td>7.622500</td>\n",
       "      <td>7.660714</td>\n",
       "      <td>7.585000</td>\n",
       "      <td>7.643214</td>\n",
       "      <td>493729600</td>\n",
       "    </tr>\n",
       "    <tr>\n",
       "      <th>1</th>\n",
       "      <td>7.664286</td>\n",
       "      <td>7.699643</td>\n",
       "      <td>7.616071</td>\n",
       "      <td>7.656429</td>\n",
       "      <td>601904800</td>\n",
       "    </tr>\n",
       "    <tr>\n",
       "      <th>2</th>\n",
       "      <td>7.656429</td>\n",
       "      <td>7.686786</td>\n",
       "      <td>7.526786</td>\n",
       "      <td>7.534643</td>\n",
       "      <td>552160000</td>\n",
       "    </tr>\n",
       "    <tr>\n",
       "      <th>3</th>\n",
       "      <td>7.562500</td>\n",
       "      <td>7.571429</td>\n",
       "      <td>7.466071</td>\n",
       "      <td>7.520714</td>\n",
       "      <td>477131200</td>\n",
       "    </tr>\n",
       "    <tr>\n",
       "      <th>4</th>\n",
       "      <td>7.510714</td>\n",
       "      <td>7.571429</td>\n",
       "      <td>7.466429</td>\n",
       "      <td>7.570714</td>\n",
       "      <td>447610800</td>\n",
       "    </tr>\n",
       "    <tr>\n",
       "      <th>...</th>\n",
       "      <td>...</td>\n",
       "      <td>...</td>\n",
       "      <td>...</td>\n",
       "      <td>...</td>\n",
       "      <td>...</td>\n",
       "    </tr>\n",
       "    <tr>\n",
       "      <th>2510</th>\n",
       "      <td>70.132500</td>\n",
       "      <td>71.062500</td>\n",
       "      <td>70.092499</td>\n",
       "      <td>71.000000</td>\n",
       "      <td>98572000</td>\n",
       "    </tr>\n",
       "    <tr>\n",
       "      <th>2511</th>\n",
       "      <td>71.172501</td>\n",
       "      <td>71.222504</td>\n",
       "      <td>70.730003</td>\n",
       "      <td>71.067497</td>\n",
       "      <td>48478800</td>\n",
       "    </tr>\n",
       "    <tr>\n",
       "      <th>2512</th>\n",
       "      <td>71.205002</td>\n",
       "      <td>72.495003</td>\n",
       "      <td>71.175003</td>\n",
       "      <td>72.477501</td>\n",
       "      <td>93121200</td>\n",
       "    </tr>\n",
       "    <tr>\n",
       "      <th>2513</th>\n",
       "      <td>72.779999</td>\n",
       "      <td>73.492500</td>\n",
       "      <td>72.029999</td>\n",
       "      <td>72.449997</td>\n",
       "      <td>146266000</td>\n",
       "    </tr>\n",
       "    <tr>\n",
       "      <th>2514</th>\n",
       "      <td>72.364998</td>\n",
       "      <td>73.172501</td>\n",
       "      <td>71.305000</td>\n",
       "      <td>72.879997</td>\n",
       "      <td>144114400</td>\n",
       "    </tr>\n",
       "  </tbody>\n",
       "</table>\n",
       "<p>2515 rows × 5 columns</p>\n",
       "</div>"
      ],
      "text/plain": [
       "           Open       High        Low      Close     Volume\n",
       "0      7.622500   7.660714   7.585000   7.643214  493729600\n",
       "1      7.664286   7.699643   7.616071   7.656429  601904800\n",
       "2      7.656429   7.686786   7.526786   7.534643  552160000\n",
       "3      7.562500   7.571429   7.466071   7.520714  477131200\n",
       "4      7.510714   7.571429   7.466429   7.570714  447610800\n",
       "...         ...        ...        ...        ...        ...\n",
       "2510  70.132500  71.062500  70.092499  71.000000   98572000\n",
       "2511  71.172501  71.222504  70.730003  71.067497   48478800\n",
       "2512  71.205002  72.495003  71.175003  72.477501   93121200\n",
       "2513  72.779999  73.492500  72.029999  72.449997  146266000\n",
       "2514  72.364998  73.172501  71.305000  72.879997  144114400\n",
       "\n",
       "[2515 rows x 5 columns]"
      ]
     },
     "execution_count": 14,
     "metadata": {},
     "output_type": "execute_result"
    }
   ],
   "source": [
    "df"
   ]
  },
  {
   "cell_type": "code",
   "execution_count": 15,
   "metadata": {},
   "outputs": [
    {
     "data": {
      "text/plain": [
       "[<matplotlib.lines.Line2D at 0x12ae8e550>]"
      ]
     },
     "execution_count": 15,
     "metadata": {},
     "output_type": "execute_result"
    },
    {
     "data": {
      "image/png": "[encoded data removed]",
      "text/plain": [
       "<Figure size 640x480 with 1 Axes>"
      ]
     },
     "metadata": {},
     "output_type": "display_data"
    }
   ],
   "source": [
    "plt.plot(df.Close)"
   ]
  },
  {
   "cell_type": "code",
   "execution_count": 16,
   "metadata": {},
   "outputs": [
    {
     "data": {
      "text/plain": [
       "0             NaN\n",
       "1             NaN\n",
       "2             NaN\n",
       "3             NaN\n",
       "4             NaN\n",
       "          ...    \n",
       "2510    59.201075\n",
       "2511    59.401700\n",
       "2512    59.643125\n",
       "2513    59.875125\n",
       "2514    60.106325\n",
       "Name: Close, Length: 2515, dtype: float64"
      ]
     },
     "execution_count": 16,
     "metadata": {},
     "output_type": "execute_result"
    }
   ],
   "source": [
    "ma100 = df.Close.rolling(100).mean()\n",
    "ma100"
   ]
  },
  {
   "cell_type": "code",
   "execution_count": 17,
   "metadata": {},
   "outputs": [
    {
     "data": {
      "text/plain": [
       "[<matplotlib.lines.Line2D at 0x12ba7b490>]"
      ]
     },
     "execution_count": 17,
     "metadata": {},
     "output_type": "execute_result"
    },
    {
     "data": {
      "image/png": "[encoded data removed]",
      "text/plain": [
       "<Figure size 1200x600 with 1 Axes>"
      ]
     },
     "metadata": {},
     "output_type": "display_data"
    }
   ],
   "source": [
    "plt.figure(figsize = (12,6))\n",
    "plt.plot(df.Close, 'g')\n",
    "plt.plot(ma100, 'b')"
   ]
  },
  {
   "cell_type": "code",
   "execution_count": 18,
   "metadata": {},
   "outputs": [
    {
     "data": {
      "text/plain": [
       "0             NaN\n",
       "1             NaN\n",
       "2             NaN\n",
       "3             NaN\n",
       "4             NaN\n",
       "          ...    \n",
       "2510    54.132313\n",
       "2511    54.261513\n",
       "2512    54.396763\n",
       "2513    54.529350\n",
       "2514    54.661100\n",
       "Name: Close, Length: 2515, dtype: float64"
      ]
     },
     "execution_count": 18,
     "metadata": {},
     "output_type": "execute_result"
    }
   ],
   "source": [
    "ma200 = df.Close.rolling(200).mean()\n",
    "ma200"
   ]
  },
  {
   "cell_type": "code",
   "execution_count": 19,
   "metadata": {},
   "outputs": [
    {
     "data": {
      "text/plain": [
       "[<matplotlib.lines.Line2D at 0x12bcd08d0>]"
      ]
     },
     "execution_count": 19,
     "metadata": {},
     "output_type": "execute_result"
    },
    {
     "data": {
      "image/png": "[encoded data removed]",
      "text/plain": [
       "<Figure size 1200x600 with 1 Axes>"
      ]
     },
     "metadata": {},
     "output_type": "display_data"
    }
   ],
   "source": [
    "plt.figure(figsize = (12,6))\n",
    "plt.plot(df.Close, 'r')\n",
    "plt.plot(ma100, 'b')\n",
    "plt.plot(ma200, 'g')"
   ]
  },
  {
   "cell_type": "code",
   "execution_count": 20,
   "metadata": {},
   "outputs": [
    {
     "data": {
      "text/plain": [
       "(2515, 5)"
      ]
     },
     "execution_count": 20,
     "metadata": {},
     "output_type": "execute_result"
    }
   ],
   "source": [
    "df.shape"
   ]
  },
  {
   "cell_type": "code",
   "execution_count": 21,
   "metadata": {},
   "outputs": [],
   "source": [
    "data_training = pd.DataFrame(df['Close'][0:int(len(df)*0.7)])\n",
    "data_testing = pd.DataFrame(df['Close'][int(len(df)*0.7): int(len(df))])"
   ]
  },
  {
   "cell_type": "code",
   "execution_count": 22,
   "metadata": {},
   "outputs": [
    {
     "name": "stdout",
     "output_type": "stream",
     "text": [
      "(1760, 1)\n",
      "(755, 1)\n"
     ]
    }
   ],
   "source": [
    "print(data_training.shape)\n",
    "print(data_testing.shape)"
   ]
  },
  {
   "cell_type": "code",
   "execution_count": 23,
   "metadata": {},
   "outputs": [
    {
     "data": {
      "text/html": [
       "<div>\n",
       "<style scoped>\n",
       "    .dataframe tbody tr th:only-of-type {\n",
       "        vertical-align: middle;\n",
       "    }\n",
       "\n",
       "    .dataframe tbody tr th {\n",
       "        vertical-align: top;\n",
       "    }\n",
       "\n",
       "    .dataframe thead th {\n",
       "        text-align: right;\n",
       "    }\n",
       "</style>\n",
       "<table border=\"1\" class=\"dataframe\">\n",
       "  <thead>\n",
       "    <tr style=\"text-align: right;\">\n",
       "      <th></th>\n",
       "      <th>Close</th>\n",
       "    </tr>\n",
       "  </thead>\n",
       "  <tbody>\n",
       "    <tr>\n",
       "      <th>0</th>\n",
       "      <td>7.643214</td>\n",
       "    </tr>\n",
       "    <tr>\n",
       "      <th>1</th>\n",
       "      <td>7.656429</td>\n",
       "    </tr>\n",
       "    <tr>\n",
       "      <th>2</th>\n",
       "      <td>7.534643</td>\n",
       "    </tr>\n",
       "    <tr>\n",
       "      <th>3</th>\n",
       "      <td>7.520714</td>\n",
       "    </tr>\n",
       "    <tr>\n",
       "      <th>4</th>\n",
       "      <td>7.570714</td>\n",
       "    </tr>\n",
       "  </tbody>\n",
       "</table>\n",
       "</div>"
      ],
      "text/plain": [
       "      Close\n",
       "0  7.643214\n",
       "1  7.656429\n",
       "2  7.534643\n",
       "3  7.520714\n",
       "4  7.570714"
      ]
     },
     "execution_count": 23,
     "metadata": {},
     "output_type": "execute_result"
    }
   ],
   "source": [
    "data_training.head()"
   ]
  },
  {
   "cell_type": "code",
   "execution_count": 24,
   "metadata": {},
   "outputs": [
    {
     "data": {
      "text/html": [
       "<div>\n",
       "<style scoped>\n",
       "    .dataframe tbody tr th:only-of-type {\n",
       "        vertical-align: middle;\n",
       "    }\n",
       "\n",
       "    .dataframe tbody tr th {\n",
       "        vertical-align: top;\n",
       "    }\n",
       "\n",
       "    .dataframe thead th {\n",
       "        text-align: right;\n",
       "    }\n",
       "</style>\n",
       "<table border=\"1\" class=\"dataframe\">\n",
       "  <thead>\n",
       "    <tr style=\"text-align: right;\">\n",
       "      <th></th>\n",
       "      <th>Close</th>\n",
       "    </tr>\n",
       "  </thead>\n",
       "  <tbody>\n",
       "    <tr>\n",
       "      <th>1760</th>\n",
       "      <td>29.182501</td>\n",
       "    </tr>\n",
       "    <tr>\n",
       "      <th>1761</th>\n",
       "      <td>28.955000</td>\n",
       "    </tr>\n",
       "    <tr>\n",
       "      <th>1762</th>\n",
       "      <td>29.037500</td>\n",
       "    </tr>\n",
       "    <tr>\n",
       "      <th>1763</th>\n",
       "      <td>29.004999</td>\n",
       "    </tr>\n",
       "    <tr>\n",
       "      <th>1764</th>\n",
       "      <td>29.152500</td>\n",
       "    </tr>\n",
       "  </tbody>\n",
       "</table>\n",
       "</div>"
      ],
      "text/plain": [
       "          Close\n",
       "1760  29.182501\n",
       "1761  28.955000\n",
       "1762  29.037500\n",
       "1763  29.004999\n",
       "1764  29.152500"
      ]
     },
     "execution_count": 24,
     "metadata": {},
     "output_type": "execute_result"
    }
   ],
   "source": [
    "data_testing.head()"
   ]
  },
  {
   "cell_type": "code",
   "execution_count": 26,
   "metadata": {},
   "outputs": [],
   "source": [
    "scaler = MinMaxScaler(feature_range=(0,1))"
   ]
  },
  {
   "cell_type": "code",
   "execution_count": 27,
   "metadata": {},
   "outputs": [
    {
     "data": {
      "text/plain": [
       "array([[0.02971782],\n",
       "       [0.03021854],\n",
       "       [0.02560389],\n",
       "       ...,\n",
       "       [0.84388656],\n",
       "       [0.85089656],\n",
       "       [0.84616011]])"
      ]
     },
     "execution_count": 27,
     "metadata": {},
     "output_type": "execute_result"
    }
   ],
   "source": [
    "data_training_array = scaler.fit_transform(data_training)\n",
    "data_training_array"
   ]
  },
  {
   "cell_type": "code",
   "execution_count": 28,
   "metadata": {},
   "outputs": [
    {
     "data": {
      "text/plain": [
       "(1760, 1)"
      ]
     },
     "execution_count": 28,
     "metadata": {},
     "output_type": "execute_result"
    }
   ],
   "source": [
    "data_training_array.shape"
   ]
  },
  {
   "cell_type": "code",
   "execution_count": 29,
   "metadata": {},
   "outputs": [],
   "source": [
    "x_train = []\n",
    "y_train = []\n",
    "\n",
    "for i in range(100, data_training_array.shape[0]):\n",
    "    x_train.append(data_training_array[i-100: i])\n",
    "    y_train.append(data_training_array[i, 0])"
   ]
  },
  {
   "cell_type": "code",
   "execution_count": null,
   "metadata": {},
   "outputs": [],
   "source": [
    "y_train"
   ]
  },
  {
   "cell_type": "code",
   "execution_count": 31,
   "metadata": {},
   "outputs": [],
   "source": [
    "x_train, y_train = np.array(x_train), np.array(y_train)"
   ]
  },
  {
   "cell_type": "code",
   "execution_count": 32,
   "metadata": {},
   "outputs": [
    {
     "data": {
      "text/plain": [
       "array([[[0.02971782],\n",
       "        [0.03021854],\n",
       "        [0.02560389],\n",
       "        ...,\n",
       "        [0.07403745],\n",
       "        [0.07195343],\n",
       "        [0.07045129]],\n",
       "\n",
       "       [[0.03021854],\n",
       "        [0.02560389],\n",
       "        [0.02507608],\n",
       "        ...,\n",
       "        [0.07195343],\n",
       "        [0.07045129],\n",
       "        [0.08295551]],\n",
       "\n",
       "       [[0.02560389],\n",
       "        [0.02507608],\n",
       "        [0.02697067],\n",
       "        ...,\n",
       "        [0.07045129],\n",
       "        [0.08295551],\n",
       "        [0.08773258]],\n",
       "\n",
       "       ...,\n",
       "\n",
       "       [[0.74224237],\n",
       "        [0.74300022],\n",
       "        [0.7582516 ],\n",
       "        ...,\n",
       "        [0.84795991],\n",
       "        [0.84900194],\n",
       "        [0.84170783]],\n",
       "\n",
       "       [[0.74300022],\n",
       "        [0.7582516 ],\n",
       "        [0.76668248],\n",
       "        ...,\n",
       "        [0.84900194],\n",
       "        [0.84170783],\n",
       "        [0.84388656]],\n",
       "\n",
       "       [[0.7582516 ],\n",
       "        [0.76668248],\n",
       "        [0.7708505 ],\n",
       "        ...,\n",
       "        [0.84170783],\n",
       "        [0.84388656],\n",
       "        [0.85089656]]])"
      ]
     },
     "execution_count": 32,
     "metadata": {},
     "output_type": "execute_result"
    }
   ],
   "source": [
    "x_train"
   ]
  },
  {
   "cell_type": "code",
   "execution_count": 39,
   "metadata": {},
   "outputs": [],
   "source": [
    "model = Sequential()\n",
    "model.add(LSTM(units = 50, activation = 'relu', return_sequences = True,\n",
    "              input_shape = (x_train.shape[1], 1)))\n",
    "model.add(Dropout(0.2))\n",
    "\n",
    "\n",
    "\n",
    "#2nd\n",
    "model.add(LSTM(units = 50, activation = 'relu', return_sequences = True))\n",
    "model.add(Dropout(0.3))\n",
    "\n",
    "\n",
    "#3rd\n",
    "model.add(LSTM(units = 80, activation = 'relu', return_sequences = True))\n",
    "model.add(Dropout(0.4))\n",
    "\n",
    "\n",
    "#4th\n",
    "model.add(LSTM(units = 120, activation = 'relu'))\n",
    "model.add(Dropout(0.5))\n",
    "\n",
    "\n",
    "model.add(Dense(units = 1))"
   ]
  },
  {
   "cell_type": "code",
   "execution_count": 40,
   "metadata": {},
   "outputs": [
    {
     "name": "stdout",
     "output_type": "stream",
     "text": [
      "Model: \"sequential\"\n",
      "_________________________________________________________________\n",
      " Layer (type)                Output Shape              Param #   \n",
      "=================================================================\n",
      " lstm (LSTM)                 (None, 100, 50)           10400     \n",
      "                                                                 \n",
      " dropout (Dropout)           (None, 100, 50)           0         \n",
      "                                                                 \n",
      " lstm_1 (LSTM)               (None, 100, 50)           20200     \n",
      "                                                                 \n",
      " dropout_1 (Dropout)         (None, 100, 50)           0         \n",
      "                                                                 \n",
      " lstm_2 (LSTM)               (None, 100, 80)           41920     \n",
      "                                                                 \n",
      " dropout_2 (Dropout)         (None, 100, 80)           0         \n",
      "                                                                 \n",
      " lstm_3 (LSTM)               (None, 120)               96480     \n",
      "                                                                 \n",
      " dropout_3 (Dropout)         (None, 120)               0         \n",
      "                                                                 \n",
      " dense (Dense)               (None, 1)                 121       \n",
      "                                                                 \n",
      "=================================================================\n",
      "Total params: 169121 (660.63 KB)\n",
      "Trainable params: 169121 (660.63 KB)\n",
      "Non-trainable params: 0 (0.00 Byte)\n",
      "_________________________________________________________________\n"
     ]
    }
   ],
   "source": [
    "model.summary()"
   ]
  },
  {
   "cell_type": "code",
   "execution_count": 41,
   "metadata": {},
   "outputs": [
    {
     "name": "stdout",
     "output_type": "stream",
     "text": [
      "Epoch 1/50\n",
      "52/52 [==============================] - 6s 96ms/step - loss: 0.0893\n",
      "Epoch 2/50\n",
      "52/52 [==============================] - 5s 97ms/step - loss: 0.0135\n",
      "Epoch 3/50\n",
      "52/52 [==============================] - 5s 100ms/step - loss: 0.0098\n",
      "Epoch 4/50\n",
      "52/52 [==============================] - 5s 102ms/step - loss: 0.0091\n",
      "Epoch 5/50\n",
      "52/52 [==============================] - 5s 99ms/step - loss: 0.0080\n",
      "Epoch 6/50\n",
      "52/52 [==============================] - 5s 99ms/step - loss: 0.0076\n",
      "Epoch 7/50\n",
      "52/52 [==============================] - 5s 98ms/step - loss: 0.0083\n",
      "Epoch 8/50\n",
      "52/52 [==============================] - 5s 99ms/step - loss: 0.0078\n",
      "Epoch 9/50\n",
      "52/52 [==============================] - 5s 99ms/step - loss: 0.0086\n",
      "Epoch 10/50\n",
      "52/52 [==============================] - 5s 99ms/step - loss: 0.0072\n",
      "Epoch 11/50\n",
      "52/52 [==============================] - 5s 100ms/step - loss: 0.0077\n",
      "Epoch 12/50\n",
      "52/52 [==============================] - 5s 103ms/step - loss: 0.0063\n",
      "Epoch 13/50\n",
      "52/52 [==============================] - 5s 100ms/step - loss: 0.0059\n",
      "Epoch 14/50\n",
      "52/52 [==============================] - 5s 102ms/step - loss: 0.0062\n",
      "Epoch 15/50\n",
      "52/52 [==============================] - 5s 101ms/step - loss: 0.0063\n",
      "Epoch 16/50\n",
      "52/52 [==============================] - 5s 100ms/step - loss: 0.0061\n",
      "Epoch 17/50\n",
      "52/52 [==============================] - 5s 101ms/step - loss: 0.0059\n",
      "Epoch 18/50\n",
      "52/52 [==============================] - 5s 98ms/step - loss: 0.0056\n",
      "Epoch 19/50\n",
      "52/52 [==============================] - 5s 99ms/step - loss: 1032849856.0000\n",
      "Epoch 20/50\n",
      "52/52 [==============================] - 5s 98ms/step - loss: 12124.4277\n",
      "Epoch 21/50\n",
      "52/52 [==============================] - 5s 98ms/step - loss: 795172352.0000\n",
      "Epoch 22/50\n",
      "52/52 [==============================] - 5s 98ms/step - loss: 0.0306\n",
      "Epoch 23/50\n",
      "52/52 [==============================] - 5s 98ms/step - loss: 0.0250\n",
      "Epoch 24/50\n",
      "52/52 [==============================] - 5s 101ms/step - loss: 0.0203\n",
      "Epoch 25/50\n",
      "52/52 [==============================] - 6s 108ms/step - loss: 0.0183\n",
      "Epoch 26/50\n",
      "52/52 [==============================] - 5s 105ms/step - loss: 0.0156\n",
      "Epoch 27/50\n",
      "52/52 [==============================] - 5s 103ms/step - loss: 0.0146\n",
      "Epoch 28/50\n",
      "52/52 [==============================] - 5s 99ms/step - loss: 0.0144\n",
      "Epoch 29/50\n",
      "52/52 [==============================] - 5s 99ms/step - loss: 0.0149\n",
      "Epoch 30/50\n",
      "52/52 [==============================] - 5s 99ms/step - loss: 0.0139\n",
      "Epoch 31/50\n",
      "52/52 [==============================] - 5s 104ms/step - loss: 0.0129\n",
      "Epoch 32/50\n",
      "52/52 [==============================] - 5s 100ms/step - loss: 0.0130\n",
      "Epoch 33/50\n",
      "52/52 [==============================] - 5s 99ms/step - loss: 0.0131\n",
      "Epoch 34/50\n",
      "52/52 [==============================] - 5s 99ms/step - loss: 0.0119\n",
      "Epoch 35/50\n",
      "52/52 [==============================] - 5s 99ms/step - loss: 0.0121\n",
      "Epoch 36/50\n",
      "52/52 [==============================] - 5s 99ms/step - loss: 0.0117\n",
      "Epoch 37/50\n",
      "52/52 [==============================] - 5s 99ms/step - loss: 0.0110\n",
      "Epoch 38/50\n",
      "52/52 [==============================] - 5s 99ms/step - loss: 0.0108\n",
      "Epoch 39/50\n",
      "52/52 [==============================] - 5s 100ms/step - loss: 0.0107\n",
      "Epoch 40/50\n",
      "52/52 [==============================] - 5s 99ms/step - loss: 0.0109\n",
      "Epoch 41/50\n",
      "52/52 [==============================] - 5s 99ms/step - loss: 0.0103\n",
      "Epoch 42/50\n",
      "52/52 [==============================] - 5s 100ms/step - loss: 0.0102\n",
      "Epoch 43/50\n",
      "52/52 [==============================] - 5s 99ms/step - loss: 0.0100\n",
      "Epoch 44/50\n",
      "52/52 [==============================] - 5s 99ms/step - loss: 0.0094\n",
      "Epoch 45/50\n",
      "52/52 [==============================] - 5s 99ms/step - loss: 0.0095\n",
      "Epoch 46/50\n",
      "52/52 [==============================] - 5s 99ms/step - loss: 0.0099\n",
      "Epoch 47/50\n",
      "52/52 [==============================] - 5s 99ms/step - loss: 0.0096\n",
      "Epoch 48/50\n",
      "52/52 [==============================] - 5s 99ms/step - loss: 0.0094\n",
      "Epoch 49/50\n",
      "52/52 [==============================] - 5s 101ms/step - loss: 0.0092\n",
      "Epoch 50/50\n",
      "52/52 [==============================] - 5s 100ms/step - loss: 0.0096\n"
     ]
    },
    {
     "data": {
      "text/plain": [
       "<keras.src.callbacks.History at 0x15af0c990>"
      ]
     },
     "execution_count": 41,
     "metadata": {},
     "output_type": "execute_result"
    }
   ],
   "source": [
    "model.compile(optimizer='adam', loss = 'mean_squared_error')\n",
    "model.fit(x_train, y_train, epochs =50 )"
   ]
  },
  {
   "cell_type": "code",
   "execution_count": null,
   "metadata": {},
   "outputs": [],
   "source": [
    "model.save('keras_model.h5')"
   ]
  },
  {
   "cell_type": "code",
   "execution_count": 43,
   "metadata": {},
   "outputs": [
    {
     "data": {
      "text/html": [
       "<div>\n",
       "<style scoped>\n",
       "    .dataframe tbody tr th:only-of-type {\n",
       "        vertical-align: middle;\n",
       "    }\n",
       "\n",
       "    .dataframe tbody tr th {\n",
       "        vertical-align: top;\n",
       "    }\n",
       "\n",
       "    .dataframe thead th {\n",
       "        text-align: right;\n",
       "    }\n",
       "</style>\n",
       "<table border=\"1\" class=\"dataframe\">\n",
       "  <thead>\n",
       "    <tr style=\"text-align: right;\">\n",
       "      <th></th>\n",
       "      <th>Close</th>\n",
       "    </tr>\n",
       "  </thead>\n",
       "  <tbody>\n",
       "    <tr>\n",
       "      <th>1760</th>\n",
       "      <td>29.182501</td>\n",
       "    </tr>\n",
       "    <tr>\n",
       "      <th>1761</th>\n",
       "      <td>28.955000</td>\n",
       "    </tr>\n",
       "    <tr>\n",
       "      <th>1762</th>\n",
       "      <td>29.037500</td>\n",
       "    </tr>\n",
       "    <tr>\n",
       "      <th>1763</th>\n",
       "      <td>29.004999</td>\n",
       "    </tr>\n",
       "    <tr>\n",
       "      <th>1764</th>\n",
       "      <td>29.152500</td>\n",
       "    </tr>\n",
       "  </tbody>\n",
       "</table>\n",
       "</div>"
      ],
      "text/plain": [
       "          Close\n",
       "1760  29.182501\n",
       "1761  28.955000\n",
       "1762  29.037500\n",
       "1763  29.004999\n",
       "1764  29.152500"
      ]
     },
     "execution_count": 43,
     "metadata": {},
     "output_type": "execute_result"
    }
   ],
   "source": [
    "data_testing.head()"
   ]
  },
  {
   "cell_type": "code",
   "execution_count": 44,
   "metadata": {},
   "outputs": [
    {
     "data": {
      "text/html": [
       "<div>\n",
       "<style scoped>\n",
       "    .dataframe tbody tr th:only-of-type {\n",
       "        vertical-align: middle;\n",
       "    }\n",
       "\n",
       "    .dataframe tbody tr th {\n",
       "        vertical-align: top;\n",
       "    }\n",
       "\n",
       "    .dataframe thead th {\n",
       "        text-align: right;\n",
       "    }\n",
       "</style>\n",
       "<table border=\"1\" class=\"dataframe\">\n",
       "  <thead>\n",
       "    <tr style=\"text-align: right;\">\n",
       "      <th></th>\n",
       "      <th>Close</th>\n",
       "    </tr>\n",
       "  </thead>\n",
       "  <tbody>\n",
       "    <tr>\n",
       "      <th>1660</th>\n",
       "      <td>27.092501</td>\n",
       "    </tr>\n",
       "    <tr>\n",
       "      <th>1661</th>\n",
       "      <td>27.202499</td>\n",
       "    </tr>\n",
       "    <tr>\n",
       "      <th>1662</th>\n",
       "      <td>27.000000</td>\n",
       "    </tr>\n",
       "    <tr>\n",
       "      <th>1663</th>\n",
       "      <td>26.982500</td>\n",
       "    </tr>\n",
       "    <tr>\n",
       "      <th>1664</th>\n",
       "      <td>27.045000</td>\n",
       "    </tr>\n",
       "    <tr>\n",
       "      <th>...</th>\n",
       "      <td>...</td>\n",
       "    </tr>\n",
       "    <tr>\n",
       "      <th>1755</th>\n",
       "      <td>29.264999</td>\n",
       "    </tr>\n",
       "    <tr>\n",
       "      <th>1756</th>\n",
       "      <td>29.072500</td>\n",
       "    </tr>\n",
       "    <tr>\n",
       "      <th>1757</th>\n",
       "      <td>29.129999</td>\n",
       "    </tr>\n",
       "    <tr>\n",
       "      <th>1758</th>\n",
       "      <td>29.315001</td>\n",
       "    </tr>\n",
       "    <tr>\n",
       "      <th>1759</th>\n",
       "      <td>29.190001</td>\n",
       "    </tr>\n",
       "  </tbody>\n",
       "</table>\n",
       "<p>100 rows × 1 columns</p>\n",
       "</div>"
      ],
      "text/plain": [
       "          Close\n",
       "1660  27.092501\n",
       "1661  27.202499\n",
       "1662  27.000000\n",
       "1663  26.982500\n",
       "1664  27.045000\n",
       "...         ...\n",
       "1755  29.264999\n",
       "1756  29.072500\n",
       "1757  29.129999\n",
       "1758  29.315001\n",
       "1759  29.190001\n",
       "\n",
       "[100 rows x 1 columns]"
      ]
     },
     "execution_count": 44,
     "metadata": {},
     "output_type": "execute_result"
    }
   ],
   "source": [
    "data_training.tail(100)"
   ]
  },
  {
   "cell_type": "code",
   "execution_count": 45,
   "metadata": {},
   "outputs": [],
   "source": [
    "past_100_days = data_training.tail(100)"
   ]
  },
  {
   "cell_type": "code",
   "execution_count": 46,
   "metadata": {},
   "outputs": [],
   "source": [
    "final_df = pd.concat([past_100_days, data_testing], ignore_index=True)"
   ]
  },
  {
   "cell_type": "code",
   "execution_count": 47,
   "metadata": {},
   "outputs": [
    {
     "data": {
      "text/html": [
       "<div>\n",
       "<style scoped>\n",
       "    .dataframe tbody tr th:only-of-type {\n",
       "        vertical-align: middle;\n",
       "    }\n",
       "\n",
       "    .dataframe tbody tr th {\n",
       "        vertical-align: top;\n",
       "    }\n",
       "\n",
       "    .dataframe thead th {\n",
       "        text-align: right;\n",
       "    }\n",
       "</style>\n",
       "<table border=\"1\" class=\"dataframe\">\n",
       "  <thead>\n",
       "    <tr style=\"text-align: right;\">\n",
       "      <th></th>\n",
       "      <th>Close</th>\n",
       "    </tr>\n",
       "  </thead>\n",
       "  <tbody>\n",
       "    <tr>\n",
       "      <th>0</th>\n",
       "      <td>27.092501</td>\n",
       "    </tr>\n",
       "    <tr>\n",
       "      <th>1</th>\n",
       "      <td>27.202499</td>\n",
       "    </tr>\n",
       "    <tr>\n",
       "      <th>2</th>\n",
       "      <td>27.000000</td>\n",
       "    </tr>\n",
       "    <tr>\n",
       "      <th>3</th>\n",
       "      <td>26.982500</td>\n",
       "    </tr>\n",
       "    <tr>\n",
       "      <th>4</th>\n",
       "      <td>27.045000</td>\n",
       "    </tr>\n",
       "  </tbody>\n",
       "</table>\n",
       "</div>"
      ],
      "text/plain": [
       "       Close\n",
       "0  27.092501\n",
       "1  27.202499\n",
       "2  27.000000\n",
       "3  26.982500\n",
       "4  27.045000"
      ]
     },
     "execution_count": 47,
     "metadata": {},
     "output_type": "execute_result"
    }
   ],
   "source": [
    "final_df.head()"
   ]
  },
  {
   "cell_type": "code",
   "execution_count": 48,
   "metadata": {},
   "outputs": [],
   "source": [
    "input_data = scaler.fit_transform(final_df)"
   ]
  },
  {
   "cell_type": "code",
   "execution_count": null,
   "metadata": {},
   "outputs": [],
   "source": [
    "input_data"
   ]
  },
  {
   "cell_type": "code",
   "execution_count": 50,
   "metadata": {},
   "outputs": [
    {
     "data": {
      "text/plain": [
       "(855, 1)"
      ]
     },
     "execution_count": 50,
     "metadata": {},
     "output_type": "execute_result"
    }
   ],
   "source": [
    "input_data.shape"
   ]
  },
  {
   "cell_type": "code",
   "execution_count": 51,
   "metadata": {},
   "outputs": [],
   "source": [
    "x_test = []\n",
    "y_test = []\n",
    "\n",
    "for i in range(100, input_data.shape[0]):\n",
    "    x_test.append(input_data[i-100: i])\n",
    "    y_test.append(input_data[i, 0])"
   ]
  },
  {
   "cell_type": "code",
   "execution_count": 52,
   "metadata": {},
   "outputs": [
    {
     "name": "stdout",
     "output_type": "stream",
     "text": [
      "(755, 100, 1)\n",
      "(755,)\n"
     ]
    }
   ],
   "source": [
    "x_test, y_test = np.array(x_test), np.array(y_test)\n",
    "print(x_test.shape)\n",
    "print(y_test.shape)"
   ]
  },
  {
   "cell_type": "code",
   "execution_count": 53,
   "metadata": {},
   "outputs": [
    {
     "name": "stdout",
     "output_type": "stream",
     "text": [
      "24/24 [==============================] - 1s 27ms/step\n"
     ]
    }
   ],
   "source": [
    "y_predicted = model.predict(x_test)"
   ]
  },
  {
   "cell_type": "code",
   "execution_count": 54,
   "metadata": {},
   "outputs": [
    {
     "data": {
      "text/plain": [
       "(755, 1)"
      ]
     },
     "execution_count": 54,
     "metadata": {},
     "output_type": "execute_result"
    }
   ],
   "source": [
    "y_predicted.shape"
   ]
  },
  {
   "cell_type": "code",
   "execution_count": 55,
   "metadata": {},
   "outputs": [
    {
     "data": {
      "text/plain": [
       "array([0.0721907 , 0.06736028, 0.06911197, 0.06842189, 0.07155371,\n",
       "       0.07845431, 0.08418707, 0.08482406, 0.08822126, 0.08556719,\n",
       "       0.08445249, 0.0895483 , 0.0894952 , 0.0883805 , 0.0895483 ,\n",
       "       0.08997296, 0.08938906, 0.09952758, 0.0998461 , 0.09989915,\n",
       "       0.09820055, 0.09671427, 0.1359945 , 0.1348267 , 0.1377462 ,\n",
       "       0.144169  , 0.15075112, 0.15345824, 0.15547536, 0.1538829 ,\n",
       "       0.16009341, 0.16927655, 0.17187748, 0.17102824, 0.17299223,\n",
       "       0.17819418, 0.18037053, 0.1772918 , 0.17798189, 0.17941503,\n",
       "       0.17973358, 0.1945963 , 0.19019062, 0.19454325, 0.19220766,\n",
       "       0.19316316, 0.19040291, 0.18870427, 0.19114605, 0.19146452,\n",
       "       0.19034986, 0.19815283, 0.19937368, 0.195658  , 0.20346096,\n",
       "       0.19486173, 0.20324859, 0.20059453, 0.19910825, 0.20038224,\n",
       "       0.21588199, 0.21758055, 0.21657199, 0.21513885, 0.21535114,\n",
       "       0.22103089, 0.21704978, 0.21513885, 0.21344021, 0.21253783,\n",
       "       0.20436334, 0.20526571, 0.20128461, 0.20542495, 0.2020808 ,\n",
       "       0.19932054, 0.20866292, 0.20776054, 0.21503267, 0.21975691,\n",
       "       0.21524496, 0.21582885, 0.21508572, 0.2306386 , 0.23557513,\n",
       "       0.23318649, 0.23037318, 0.243272  , 0.26476989, 0.26997192,\n",
       "       0.26609692, 0.26975955, 0.2811721 , 0.27904879, 0.27782794,\n",
       "       0.25011946, 0.26227506, 0.26503531, 0.26997192, 0.26896336,\n",
       "       0.26652158, 0.26933489, 0.2679548 , 0.26827328, 0.26344285,\n",
       "       0.26567226, 0.27772176, 0.26965337, 0.27241362, 0.2772971 ,\n",
       "       0.27528006, 0.2433781 , 0.22448114, 0.23069166, 0.22310106,\n",
       "       0.21848292, 0.20776054, 0.22936462, 0.22230479, 0.22686979,\n",
       "       0.22559589, 0.22904615, 0.22660445, 0.21551038, 0.2266575 ,\n",
       "       0.21524496, 0.21704978, 0.21428953, 0.21742131, 0.21020224,\n",
       "       0.21789902, 0.22257021, 0.22506504, 0.22617979, 0.2369553 ,\n",
       "       0.24369658, 0.24645683, 0.24921708, 0.25420675, 0.25059717,\n",
       "       0.25022564, 0.25988641, 0.26333675, 0.26715862, 0.25176497,\n",
       "       0.24613836, 0.24205107, 0.24905785, 0.28669252, 0.27835879,\n",
       "       0.28271142, 0.2955571 , 0.30229846, 0.30750041, 0.27703176,\n",
       "       0.28849727, 0.30107761, 0.31036685, 0.30691651, 0.29051439,\n",
       "       0.28860346, 0.28706413, 0.300706  , 0.30176761, 0.29799888,\n",
       "       0.30113066, 0.30967677, 0.3173205 , 0.31965609, 0.32310635,\n",
       "       0.32337177, 0.31291474, 0.31201236, 0.30856202, 0.29460168,\n",
       "       0.30983601, 0.3064388 , 0.30001592, 0.2927438 , 0.30123685,\n",
       "       0.29481397, 0.29513244, 0.28101286, 0.26678701, 0.2588248 ,\n",
       "       0.25171192, 0.26545997, 0.27124582, 0.26620311, 0.27066193,\n",
       "       0.26901642, 0.27257286, 0.26726472, 0.27740328, 0.27692557,\n",
       "       0.27979193, 0.2801104 , 0.28356074, 0.28064125, 0.28589634,\n",
       "       0.30123685, 0.30436863, 0.30059982, 0.28053506, 0.28196828,\n",
       "       0.28154362, 0.28648023, 0.28281761, 0.28812574, 0.31806364,\n",
       "       0.33754449, 0.34985933, 0.33844687, 0.3449228 , 0.36822552,\n",
       "       0.37751476, 0.38048731, 0.38807798, 0.38616705, 0.37974417,\n",
       "       0.37602849, 0.36206806, 0.3500717 , 0.36079416, 0.35575136,\n",
       "       0.35484899, 0.37162273, 0.38128357, 0.38133663, 0.37666544,\n",
       "       0.3712512 , 0.35219492, 0.36477526, 0.36052874, 0.35389357,\n",
       "       0.35304424, 0.34970009, 0.35134568, 0.35161102, 0.36912789,\n",
       "       0.36397899, 0.36700467, 0.36673925, 0.37602849, 0.38903341,\n",
       "       0.37905409, 0.37804561, 0.38154892, 0.38154892, 0.35798085,\n",
       "       0.35814009, 0.36068797, 0.35086789, 0.36695154, 0.3667923 ,\n",
       "       0.37103883, 0.38149586, 0.37804561, 0.37793942, 0.37772705,\n",
       "       0.38298214, 0.39258985, 0.38781256, 0.40325926, 0.4041085 ,\n",
       "       0.39986206, 0.39211214, 0.39232443, 0.37735552, 0.36084721,\n",
       "       0.36297043, 0.34412661, 0.33887153, 0.34131322, 0.3431711 ,\n",
       "       0.30452787, 0.28324227, 0.31795745, 0.29943202, 0.2761293 ,\n",
       "       0.28281761, 0.31625889, 0.3249111 , 0.34099475, 0.37082654,\n",
       "       0.36785391, 0.36477526, 0.36063492, 0.36822552, 0.38414993,\n",
       "       0.40256918, 0.39949045, 0.39805723, 0.38149586, 0.38791875,\n",
       "       0.39115671, 0.39036044, 0.3816551 , 0.39179366, 0.40793037,\n",
       "       0.41716656, 0.40787731, 0.39975587, 0.40087053, 0.39752646,\n",
       "       0.38308832, 0.38276985, 0.36169653, 0.34885085, 0.32809601,\n",
       "       0.36965874, 0.34614365, 0.33627051, 0.3431711 , 0.33733212,\n",
       "       0.34640907, 0.36350128, 0.36981798, 0.34635602, 0.3552206 ,\n",
       "       0.37220662, 0.36790705, 0.37693086, 0.38006264, 0.38584858,\n",
       "       0.39869426, 0.39657096, 0.36981798, 0.33223635, 0.32968847,\n",
       "       0.31747974, 0.32124847, 0.32427415, 0.31418872, 0.32979457,\n",
       "       0.35017788, 0.38982968, 0.39152824, 0.42836673, 0.43542656,\n",
       "       0.4401508 , 0.44710445, 0.46133022, 0.45363344, 0.45129784,\n",
       "       0.44222097, 0.45145708, 0.44514046, 0.44153089, 0.44853767,\n",
       "       0.44604284, 0.45241259, 0.45129784, 0.45358038, 0.44997081,\n",
       "       0.44784758, 0.44450343, 0.46239191, 0.47083183, 0.47868785,\n",
       "       0.48224429, 0.47948412, 0.47014175, 0.46764692, 0.47322048,\n",
       "       0.46483361, 0.46536445, 0.45496047, 0.4544297 , 0.43823987,\n",
       "       0.44253945, 0.43701902, 0.43415258, 0.4195552 , 0.43155156,\n",
       "       0.43011842, 0.43723131, 0.43516114, 0.44614894, 0.42884444,\n",
       "       0.43670046, 0.45034242, 0.46419666, 0.46297581, 0.4498647 ,\n",
       "       0.4665853 , 0.46817776, 0.46594835, 0.46881471, 0.46324115,\n",
       "       0.47109725, 0.46876166, 0.46966403, 0.47704234, 0.48670319,\n",
       "       0.48346522, 0.46631988, 0.46064022, 0.46265725, 0.52216151,\n",
       "       0.55342644, 0.55661135, 0.56234415, 0.55194017, 0.5526833 ,\n",
       "       0.56133559, 0.55416957, 0.56128246, 0.56595365, 0.56855466,\n",
       "       0.58490374, 0.60751637, 0.59626315, 0.59403366, 0.59408679,\n",
       "       0.59642239, 0.59997883, 0.60942731, 0.6187696 , 0.63618028,\n",
       "       0.64706198, 0.66086317, 0.66473809, 0.65682894, 0.63681732,\n",
       "       0.62726265, 0.61149748, 0.64079842, 0.6260418 , 0.65438724,\n",
       "       0.64074529, 0.60910883, 0.61101976, 0.61170977, 0.62052129,\n",
       "       0.60794103, 0.62455545, 0.63198689, 0.62259146, 0.64663732,\n",
       "       0.6508308 , 0.65889911, 0.66962157, 0.68443132, 0.66277411,\n",
       "       0.64313393, 0.64037376, 0.65682894, 0.60104044, 0.59090188,\n",
       "       0.63156223, 0.60634858, 0.63177452, 0.62667875, 0.59923569,\n",
       "       0.61669943, 0.62381231, 0.63485325, 0.59429908, 0.61930045,\n",
       "       0.60072196, 0.57917094, 0.58479755, 0.61431078, 0.63214613,\n",
       "       0.55390415, 0.52263922, 0.53421101, 0.56701526, 0.55926542,\n",
       "       0.53792669, 0.48325285, 0.47295505, 0.4441319 , 0.46860242,\n",
       "       0.47985565, 0.43914224, 0.39200595, 0.39094434, 0.36711078,\n",
       "       0.37947875, 0.37746171, 0.41302621, 0.40564791, 0.40049901,\n",
       "       0.43362181, 0.39046663, 0.38000959, 0.34693992, 0.35283195,\n",
       "       0.34768305, 0.35017788, 0.35999789, 0.33096237, 0.32278788,\n",
       "       0.33409423, 0.30659804, 0.28504701, 0.25266734, 0.23196564,\n",
       "       0.28685176, 0.28143744, 0.2818621 , 0.28987744, 0.29083286,\n",
       "       0.20733588, 0.23955624, 0.23780454, 0.25277353, 0.26636235,\n",
       "       0.26896336, 0.26094802, 0.24879242, 0.26508845, 0.27501464,\n",
       "       0.27989811, 0.28499396, 0.26630929, 0.26960031, 0.26312438,\n",
       "       0.28998354, 0.28223371, 0.27363447, 0.32974152, 0.33605822,\n",
       "       0.33648288, 0.36159035, 0.37714315, 0.37746171, 0.35994484,\n",
       "       0.35713153, 0.3519295 , 0.35967942, 0.3559106 , 0.3592017 ,\n",
       "       0.35718458, 0.35989171, 0.36573069, 0.36058179, 0.37072035,\n",
       "       0.37740858, 0.37793942, 0.38080578, 0.37167578, 0.38133663,\n",
       "       0.38600781, 0.38430917, 0.37894798, 0.36822552, 0.37040188,\n",
       "       0.40219757, 0.41286698, 0.4171135 , 0.42783588, 0.44052233,\n",
       "       0.45060784, 0.44269868, 0.45135097, 0.48813633, 0.46669149,\n",
       "       0.4544297 , 0.44407877, 0.45299648, 0.45432352, 0.46085251,\n",
       "       0.46770005, 0.48245666, 0.4895165 , 0.49132124, 0.49827489,\n",
       "       0.51473015, 0.51154524, 0.51749032, 0.50862574, 0.50820108,\n",
       "       0.51011202, 0.5102182 , 0.5308138 , 0.53468872, 0.53824516,\n",
       "       0.55390415, 0.55220559, 0.54222626, 0.53702431, 0.53866982,\n",
       "       0.51775575, 0.57004093, 0.56276873, 0.57656992, 0.55921229,\n",
       "       0.52938058, 0.52959287, 0.51802117, 0.49923032, 0.43839911,\n",
       "       0.45400504, 0.46600141, 0.46154259, 0.45580979, 0.42443868,\n",
       "       0.44307029, 0.42279317, 0.40623181, 0.40256918, 0.39864113,\n",
       "       0.39412926, 0.39901273, 0.38186747, 0.37247205, 0.40612562,\n",
       "       0.42151919, 0.43574504, 0.46191412, 0.47481293, 0.48665006,\n",
       "       0.48335904, 0.48314667, 0.47566225, 0.48176658, 0.50597168,\n",
       "       0.50289295, 0.51133295, 0.50772337, 0.50666176, 0.49068429,\n",
       "       0.51313769, 0.51281922, 0.50315837, 0.52242693, 0.5286905 ,\n",
       "       0.53760821, 0.5366527 , 0.51430549, 0.52078142, 0.53134457,\n",
       "       0.52348855, 0.53171617, 0.54185474, 0.53808592, 0.5319816 ,\n",
       "       0.54424338, 0.52794736, 0.55252406, 0.56112322, 0.56022085,\n",
       "       0.55146245, 0.55528432, 0.56558204, 0.56080475, 0.58341738,\n",
       "       0.55894687, 0.53553804, 0.47884709, 0.49827489, 0.50910346,\n",
       "       0.53240618, 0.51945439, 0.51674719, 0.56181331, 0.52879668,\n",
       "       0.52343549, 0.5487022 , 0.56913856, 0.56919161, 0.58129416,\n",
       "       0.58033873, 0.52821278, 0.54864915, 0.53628118, 0.5435533 ,\n",
       "       0.5620256 , 0.56059246, 0.54445567, 0.5629811 , 0.58469137,\n",
       "       0.58458518, 0.5894156 , 0.60284519, 0.63941825, 0.63676418,\n",
       "       0.61372688, 0.61983121, 0.62407774, 0.63506562, 0.6254579 ,\n",
       "       0.60831256, 0.61356765, 0.60804714, 0.62582943, 0.61977816,\n",
       "       0.61409849, 0.64143537, 0.64472639, 0.61484163, 0.62471477,\n",
       "       0.65757207, 0.6578375 , 0.64371783, 0.65767826, 0.67392115,\n",
       "       0.706407  , 0.70460217, 0.70168276, 0.69663997, 0.70147039,\n",
       "       0.70746861, 0.72923193, 0.72631252, 0.74340465, 0.74552795,\n",
       "       0.76145236, 0.77456347, 0.74398855, 0.74382931, 0.77302407,\n",
       "       0.81049958, 0.81941722, 0.81745323, 0.81803705, 0.82966188,\n",
       "       0.83343078, 0.84436553, 0.84309147, 0.85641494, 0.84670112,\n",
       "       0.86326249, 0.87037537, 0.86607579, 0.84962053, 0.84335697,\n",
       "       0.84213604, 0.86650037, 0.85545952, 0.87430334, 0.87117156,\n",
       "       0.85476943, 0.82976815, 0.84192367, 0.8623069 , 0.88953767,\n",
       "       0.86941994, 0.87770063, 0.88985614, 0.89351877, 0.91310581,\n",
       "       0.9381071 , 0.94102667, 0.93747015, 0.93895642, 0.93587777,\n",
       "       0.96008286, 0.961516  , 0.99145398, 0.99087   , 1.        ])"
      ]
     },
     "execution_count": 55,
     "metadata": {},
     "output_type": "execute_result"
    }
   ],
   "source": [
    "y_test"
   ]
  },
  {
   "cell_type": "code",
   "execution_count": null,
   "metadata": {},
   "outputs": [],
   "source": [
    "y_predicted"
   ]
  },
  {
   "cell_type": "code",
   "execution_count": 57,
   "metadata": {},
   "outputs": [
    {
     "data": {
      "text/plain": [
       "array([0.02123255])"
      ]
     },
     "execution_count": 57,
     "metadata": {},
     "output_type": "execute_result"
    }
   ],
   "source": [
    "scaler.scale_"
   ]
  },
  {
   "cell_type": "code",
   "execution_count": 58,
   "metadata": {},
   "outputs": [],
   "source": [
    "scale_factor = 1/0.02099517\n",
    "y_predicted = y_predicted * scale_factor\n",
    "y_test = y_test * scale_factor"
   ]
  },
  {
   "cell_type": "code",
   "execution_count": 59,
   "metadata": {},
   "outputs": [
    {
     "data": {
      "image/png": "[encoded data removed]",
      "text/plain": [
       "<Figure size 1200x600 with 1 Axes>"
      ]
     },
     "metadata": {},
     "output_type": "display_data"
    }
   ],
   "source": [
    "plt.figure(figsize=(12,6))\n",
    "plt.plot(y_test, 'b', label = 'Original Price')\n",
    "plt.plot(y_predicted, 'r', label = 'Predicted price')\n",
    "plt.xlabel('Time')\n",
    "plt.ylabel('Price')\n",
    "plt.legend()\n",
    "plt.show()"
   ]
  }
 ],
 "metadata": {
  "kernelspec": {
   "display_name": "Python 3",
   "language": "python",
   "name": "python3"
  },
  "language_info": {
   "codemirror_mode": {
    "name": "ipython",
    "version": 3
   },
   "file_extension": ".py",
   "mimetype": "text/x-python",
   "name": "python",
   "nbconvert_exporter": "python",
   "pygments_lexer": "ipython3",
   "version": "3.11.1"
  },
  "orig_nbformat": 4
 },
 "nbformat": 4,
 "nbformat_minor": 2
}
